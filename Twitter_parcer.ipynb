{
 "cells": [
  {
   "cell_type": "code",
   "execution_count": 1,
   "id": "753178fc-eb3a-4da5-b497-8e5132601d6d",
   "metadata": {},
   "outputs": [],
   "source": [
    "import os\n",
    "import tweepy as tw\n",
    "import pandas as pd\n",
    "from datetime import datetime\n",
    "import configparser"
   ]
  },
  {
   "cell_type": "code",
   "execution_count": 2,
   "id": "1a791e42-32be-4a7b-a572-21295816956d",
   "metadata": {},
   "outputs": [],
   "source": [
    "# API set-ups for the use of Twitter API\n",
    "config = configparser.ConfigParser()\n",
    "config.read('config.ini')\n",
    "\n",
    "api_key = config['twitter']['api_key']\n",
    "api_key_secret = config['twitter']['api_key_secret']\n",
    "\n",
    "access_token = config['twitter']['access_token']\n",
    "access_token_secret = config['twitter']['access_token_secret']\n",
    "\n",
    "auth = tw.OAuthHandler(api_key, api_key_secret)\n",
    "auth.set_access_token(access_token, access_token_secret)\n",
    "api = tw.API(auth) "
   ]
  },
  {
   "cell_type": "code",
   "execution_count": 6,
   "id": "70506df4-f702-4d66-8f30-6f5f65d77037",
   "metadata": {},
   "outputs": [],
   "source": [
    "#var. 1.2\n",
    "# search_query = \"alejandro AND pozuelo\"\n",
    "\n",
    "search_results_dict = {}\n",
    "def search_tweets(search_query, no_of_tweets=5):\n",
    "    try:\n",
    "        #Search without retweets\n",
    "        tweets = api.search_tweets(q=search_query+' -filter:retweets', result_type='recent', count=no_of_tweets, tweet_mode='extended')       \n",
    "        #Pulling Some attributes from the tweet\n",
    "        attributes_container = [[tweet.user.screen_name, tweet.created_at, tweet.full_text] for tweet in tweets]\n",
    "        #Collecting results to dict\n",
    "        search_results_dict[search_query] = attributes_container\n",
    "    except BaseException as e:\n",
    "        print('Status Failed On,',str(e))\n",
    "    return search_results_dict\n",
    "\n"
   ]
  },
  {
   "cell_type": "code",
   "execution_count": 20,
   "id": "3c0197c5-42ec-43c7-956d-92c8d2487b14",
   "metadata": {},
   "outputs": [],
   "source": [
    "# Getting search list from excel file\n",
    "\n",
    "search_list = ['issa kallon', 'humphreys rotherham', 'jeremy ebobisse']\n",
    "for query in search_list:\n",
    "    search_tweets(query, 2)"
   ]
  },
  {
   "cell_type": "code",
   "execution_count": 32,
   "id": "5afa239d-9c79-4ea6-95fa-11e3233d3470",
   "metadata": {},
   "outputs": [
    {
     "data": {
      "text/html": [
       "<div>\n",
       "<style scoped>\n",
       "    .dataframe tbody tr th:only-of-type {\n",
       "        vertical-align: middle;\n",
       "    }\n",
       "\n",
       "    .dataframe tbody tr th {\n",
       "        vertical-align: top;\n",
       "    }\n",
       "\n",
       "    .dataframe thead th {\n",
       "        text-align: right;\n",
       "    }\n",
       "</style>\n",
       "<table border=\"1\" class=\"dataframe\">\n",
       "  <thead>\n",
       "    <tr style=\"text-align: right;\">\n",
       "      <th></th>\n",
       "      <th></th>\n",
       "      <th>User</th>\n",
       "      <th>Date Created</th>\n",
       "      <th>Tweet</th>\n",
       "    </tr>\n",
       "  </thead>\n",
       "  <tbody>\n",
       "    <tr>\n",
       "      <th rowspan=\"2\" valign=\"top\">issa kallon</th>\n",
       "      <th>0</th>\n",
       "      <td>Sorarechina33</td>\n",
       "      <td>2022-10-06 15:53:39+00:00</td>\n",
       "      <td>👀 ISSA KALLON 👀 https://t.co/jjJlInp1jI</td>\n",
       "    </tr>\n",
       "    <tr>\n",
       "      <th>1</th>\n",
       "      <td>QeeYouBet</td>\n",
       "      <td>2022-10-06 08:10:35+00:00</td>\n",
       "      <td>Pour ceux qui ont Issa Kallon sur #Sorare vous...</td>\n",
       "    </tr>\n",
       "    <tr>\n",
       "      <th rowspan=\"2\" valign=\"top\">humphreys rotherham</th>\n",
       "      <th>0</th>\n",
       "      <td>CharlieEwanHawk</td>\n",
       "      <td>2022-10-03 09:58:22+00:00</td>\n",
       "      <td>WE’VE GOT SUPER MATTY TAYLOR, HE KNOWS EXACTLY...</td>\n",
       "    </tr>\n",
       "    <tr>\n",
       "      <th>1</th>\n",
       "      <td>JakeK4200</td>\n",
       "      <td>2022-10-01 22:54:59+00:00</td>\n",
       "      <td>@GabSutton @piperjoee @CornyRUFC That sounds p...</td>\n",
       "    </tr>\n",
       "    <tr>\n",
       "      <th rowspan=\"2\" valign=\"top\">jeremy ebobisse</th>\n",
       "      <th>0</th>\n",
       "      <td>ranch_boy</td>\n",
       "      <td>2022-10-07 16:04:46+00:00</td>\n",
       "      <td>@HeadStoryteller @RyanTClarke Or been forced t...</td>\n",
       "    </tr>\n",
       "    <tr>\n",
       "      <th>1</th>\n",
       "      <td>HinterSports</td>\n",
       "      <td>2022-10-05 19:04:37+00:00</td>\n",
       "      <td>@Extratime Billy, this is Jeremy Ebobisse. He'...</td>\n",
       "    </tr>\n",
       "  </tbody>\n",
       "</table>\n",
       "</div>"
      ],
      "text/plain": [
       "                                  User              Date Created  \\\n",
       "issa kallon         0    Sorarechina33 2022-10-06 15:53:39+00:00   \n",
       "                    1        QeeYouBet 2022-10-06 08:10:35+00:00   \n",
       "humphreys rotherham 0  CharlieEwanHawk 2022-10-03 09:58:22+00:00   \n",
       "                    1        JakeK4200 2022-10-01 22:54:59+00:00   \n",
       "jeremy ebobisse     0        ranch_boy 2022-10-07 16:04:46+00:00   \n",
       "                    1     HinterSports 2022-10-05 19:04:37+00:00   \n",
       "\n",
       "                                                                   Tweet  \n",
       "issa kallon         0            👀 ISSA KALLON 👀 https://t.co/jjJlInp1jI  \n",
       "                    1  Pour ceux qui ont Issa Kallon sur #Sorare vous...  \n",
       "humphreys rotherham 0  WE’VE GOT SUPER MATTY TAYLOR, HE KNOWS EXACTLY...  \n",
       "                    1  @GabSutton @piperjoee @CornyRUFC That sounds p...  \n",
       "jeremy ebobisse     0  @HeadStoryteller @RyanTClarke Or been forced t...  \n",
       "                    1  @Extratime Billy, this is Jeremy Ebobisse. He'...  "
      ]
     },
     "execution_count": 32,
     "metadata": {},
     "output_type": "execute_result"
    }
   ],
   "source": [
    "## Search result to dataframe\n",
    "#Creation of column list to rename the columns in the dataframe\n",
    "columns = [\"User\", \"Date Created\", \"Tweet\"]\n",
    "#Creation of Dataframe\n",
    "tweets_df = pd.concat({k: pd.DataFrame(v) for k, v in search_results_dict.items()}, axis=0)\n",
    "tweets_df.columns = columns\n",
    "tweets_df"
   ]
  },
  {
   "cell_type": "code",
   "execution_count": 40,
   "id": "bea49a8f-2c6a-47eb-a10a-1c9b7771506f",
   "metadata": {},
   "outputs": [],
   "source": [
    "# Data upload to excel\n",
    "tweets_df.reset_index(level=[0,1], inplace=True)\n",
    "tweets_df.drop('level_1', axis=1,inplace=True)\n",
    "tweets_df['Date Created'] = tweets_df['Date Created'].dt.tz_localize(None)\n",
    "tweets_df.to_excel('tweets_08.xlsx')"
   ]
  },
  {
   "cell_type": "code",
   "execution_count": 38,
   "id": "168ee9c0-358c-4e63-a285-76580da0c793",
   "metadata": {},
   "outputs": [],
   "source": [
    "tweets_df['Date Created'] = tweets_df['Date Created'].dt.tz_localize(None)"
   ]
  },
  {
   "cell_type": "code",
   "execution_count": 41,
   "id": "4b2df029-604c-4de4-8734-91640f7e5009",
   "metadata": {},
   "outputs": [],
   "source": [
    "tweets_df.to_excel('tweets_08.xlsx')"
   ]
  },
  {
   "cell_type": "code",
   "execution_count": 69,
   "id": "982b3ad5-b0c2-47bf-8c67-4bbde92c075a",
   "metadata": {},
   "outputs": [],
   "source": [
    "# # var. 2 - for multi page\n",
    "# def get_tweets(list_of_tweets, keyword, num_of_tweets, data_until):\n",
    "#     for tweet in tw.Cursor(api.search_tweets, q=keyword+' -filter:retweets', until=data_until, lang='en').items(num_of_tweets):\n",
    "#         dict_ = {\n",
    "#                  'Keywords': keyword,\n",
    "#                  'User Name': tweet.user.name,\n",
    "#                  'Screen Name': tweet.user.screen_name,\n",
    "#                  'Tweet Created at': tweet.created_at,\n",
    "#                  'Tweet Text': tweet.text,\n",
    "#                  'Location': tweet.user.location,\n",
    "#                  'Likes': tweet.favorite_count,\n",
    "#                  'Retweets': tweet.retweet_count\n",
    "#                  }\n",
    "#         list_of_tweets.append(dict_)\n",
    "#     return list_of_tweets"
   ]
  },
  {
   "cell_type": "code",
   "execution_count": 71,
   "id": "51ab7dd4-f6f5-4938-8883-87d47a12d743",
   "metadata": {},
   "outputs": [
    {
     "data": {
      "text/html": [
       "<div>\n",
       "<style scoped>\n",
       "    .dataframe tbody tr th:only-of-type {\n",
       "        vertical-align: middle;\n",
       "    }\n",
       "\n",
       "    .dataframe tbody tr th {\n",
       "        vertical-align: top;\n",
       "    }\n",
       "\n",
       "    .dataframe thead th {\n",
       "        text-align: right;\n",
       "    }\n",
       "</style>\n",
       "<table border=\"1\" class=\"dataframe\">\n",
       "  <thead>\n",
       "    <tr style=\"text-align: right;\">\n",
       "      <th></th>\n",
       "    </tr>\n",
       "  </thead>\n",
       "  <tbody>\n",
       "  </tbody>\n",
       "</table>\n",
       "</div>"
      ],
      "text/plain": [
       "Empty DataFrame\n",
       "Columns: []\n",
       "Index: []"
      ]
     },
     "execution_count": 71,
     "metadata": {},
     "output_type": "execute_result"
    }
   ],
   "source": []
  }
 ],
 "metadata": {
  "kernelspec": {
   "display_name": "Python 3",
   "language": "python",
   "name": "python3"
  },
  "language_info": {
   "codemirror_mode": {
    "name": "ipython",
    "version": 3
   },
   "file_extension": ".py",
   "mimetype": "text/x-python",
   "name": "python",
   "nbconvert_exporter": "python",
   "pygments_lexer": "ipython3",
   "version": "3.8.8"
  }
 },
 "nbformat": 4,
 "nbformat_minor": 5
}
