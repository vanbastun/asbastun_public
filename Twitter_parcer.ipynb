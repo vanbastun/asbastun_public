{
 "cells": [
  {
   "cell_type": "code",
   "execution_count": 37,
   "id": "753178fc-eb3a-4da5-b497-8e5132601d6d",
   "metadata": {},
   "outputs": [],
   "source": [
    "import os\n",
    "import requests\n",
    "import tweepy as tw\n",
    "import pandas as pd\n",
    "from datetime import datetime\n",
    "import configparser\n",
    "from google_trans_new import google_translator"
   ]
  },
  {
   "cell_type": "code",
   "execution_count": 2,
   "id": "1a791e42-32be-4a7b-a572-21295816956d",
   "metadata": {},
   "outputs": [],
   "source": [
    "# API set-ups for the use of Twitter API\n",
    "config = configparser.ConfigParser()\n",
    "config.read('config.ini')\n",
    "\n",
    "api_key = config['twitter']['api_key']\n",
    "api_key_secret = config['twitter']['api_key_secret']\n",
    "\n",
    "access_token = config['twitter']['access_token']\n",
    "access_token_secret = config['twitter']['access_token_secret']\n",
    "\n",
    "auth = tw.OAuthHandler(api_key, api_key_secret)\n",
    "auth.set_access_token(access_token, access_token_secret)\n",
    "api = tw.API(auth) "
   ]
  },
  {
   "cell_type": "code",
   "execution_count": 15,
   "id": "70506df4-f702-4d66-8f30-6f5f65d77037",
   "metadata": {},
   "outputs": [],
   "source": [
    "### Search var. 1.2\n",
    "# Container to collect data\n",
    "search_results_dict = {}\n",
    "# Searching function. !only tweets from first twitter page will be returned\n",
    "def search_tweets(search_query, no_of_tweets=5):\n",
    "    try:\n",
    "        #Search without retweets\n",
    "        tweets = api.search_tweets(q=search_query+' -filter:retweets', result_type='recent', count=no_of_tweets, tweet_mode='extended')       \n",
    "        #Pulling Some attributes from the tweet\n",
    "        attributes_container = [[tweet.user.screen_name, tweet.created_at, tweet.full_text, tweet.lang] for tweet in tweets]\n",
    "        #Collecting results to dict\n",
    "        search_results_dict[search_query] = attributes_container\n",
    "    except BaseException as e:\n",
    "        print('Status Failed On,',str(e))\n",
    "    return search_results_dict"
   ]
  },
  {
   "cell_type": "code",
   "execution_count": 20,
   "id": "3c0197c5-42ec-43c7-956d-92c8d2487b14",
   "metadata": {},
   "outputs": [],
   "source": [
    "# !!!! CHECK sheet name !!!!!!!!!\n",
    "# Getting search list from excel file\n",
    "path = 'D:\\\\sorare.xlsx'\n",
    "search_df = pd.read_excel(path, sheet_name='search_short', header=0, usecols=\"B\")\n",
    "search_list = search_df['Search Name'].tolist()\n",
    "for query in search_list:\n",
    "     search_tweets(query, 5)\n"
   ]
  },
  {
   "cell_type": "code",
   "execution_count": 21,
   "id": "5afa239d-9c79-4ea6-95fa-11e3233d3470",
   "metadata": {},
   "outputs": [
    {
     "data": {
      "text/html": [
       "<div>\n",
       "<style scoped>\n",
       "    .dataframe tbody tr th:only-of-type {\n",
       "        vertical-align: middle;\n",
       "    }\n",
       "\n",
       "    .dataframe tbody tr th {\n",
       "        vertical-align: top;\n",
       "    }\n",
       "\n",
       "    .dataframe thead th {\n",
       "        text-align: right;\n",
       "    }\n",
       "</style>\n",
       "<table border=\"1\" class=\"dataframe\">\n",
       "  <thead>\n",
       "    <tr style=\"text-align: right;\">\n",
       "      <th></th>\n",
       "      <th></th>\n",
       "      <th>User</th>\n",
       "      <th>Date Created</th>\n",
       "      <th>Tweet</th>\n",
       "      <th>Language</th>\n",
       "    </tr>\n",
       "  </thead>\n",
       "  <tbody>\n",
       "    <tr>\n",
       "      <th rowspan=\"2\" valign=\"top\">Lucas Digne transfer</th>\n",
       "      <th>0</th>\n",
       "      <td>Utd_Bey</td>\n",
       "      <td>2022-10-17 13:20:13+00:00</td>\n",
       "      <td>@FergiesRightRef @markgoldbridge @UnitedStandM...</td>\n",
       "      <td>en</td>\n",
       "    </tr>\n",
       "    <tr>\n",
       "      <th>1</th>\n",
       "      <td>BTLvid</td>\n",
       "      <td>2022-10-15 14:29:24+00:00</td>\n",
       "      <td>Aston Villa’s loan deals which saw Philippe Co...</td>\n",
       "      <td>en</td>\n",
       "    </tr>\n",
       "    <tr>\n",
       "      <th>Jairo Torres transfer</th>\n",
       "      <th>0</th>\n",
       "      <td>SorareDave</td>\n",
       "      <td>2022-10-18 08:52:10+00:00</td>\n",
       "      <td>2 quick examples of where I've failed to take ...</td>\n",
       "      <td>en</td>\n",
       "    </tr>\n",
       "    <tr>\n",
       "      <th rowspan=\"2\" valign=\"top\">Juan Agudelo Birmingham</th>\n",
       "      <th>0</th>\n",
       "      <td>abc3340</td>\n",
       "      <td>2022-10-14 23:55:00+00:00</td>\n",
       "      <td>The wait lasted longer than many Birmingham fa...</td>\n",
       "      <td>en</td>\n",
       "    </tr>\n",
       "    <tr>\n",
       "      <th>1</th>\n",
       "      <td>abc3340</td>\n",
       "      <td>2022-10-14 00:34:00+00:00</td>\n",
       "      <td>Birmingham Legion's home playoff game is now s...</td>\n",
       "      <td>en</td>\n",
       "    </tr>\n",
       "  </tbody>\n",
       "</table>\n",
       "</div>"
      ],
      "text/plain": [
       "                                  User              Date Created  \\\n",
       "Lucas Digne transfer     0     Utd_Bey 2022-10-17 13:20:13+00:00   \n",
       "                         1      BTLvid 2022-10-15 14:29:24+00:00   \n",
       "Jairo Torres transfer    0  SorareDave 2022-10-18 08:52:10+00:00   \n",
       "Juan Agudelo Birmingham  0     abc3340 2022-10-14 23:55:00+00:00   \n",
       "                         1     abc3340 2022-10-14 00:34:00+00:00   \n",
       "\n",
       "                                                                        Tweet  \\\n",
       "Lucas Digne transfer     0  @FergiesRightRef @markgoldbridge @UnitedStandM...   \n",
       "                         1  Aston Villa’s loan deals which saw Philippe Co...   \n",
       "Jairo Torres transfer    0  2 quick examples of where I've failed to take ...   \n",
       "Juan Agudelo Birmingham  0  The wait lasted longer than many Birmingham fa...   \n",
       "                         1  Birmingham Legion's home playoff game is now s...   \n",
       "\n",
       "                           Language  \n",
       "Lucas Digne transfer     0       en  \n",
       "                         1       en  \n",
       "Jairo Torres transfer    0       en  \n",
       "Juan Agudelo Birmingham  0       en  \n",
       "                         1       en  "
      ]
     },
     "execution_count": 21,
     "metadata": {},
     "output_type": "execute_result"
    }
   ],
   "source": [
    "## Search result to dataframe\n",
    "#Creation of column list to rename the columns in the dataframe\n",
    "columns = [\"User\", \"Date Created\", \"Tweet\", \"Language\"]\n",
    "#Creation of Dataframe\n",
    "tweets_df = pd.concat({k: pd.DataFrame(v) for k, v in search_results_dict.items()}, axis=0)\n",
    "tweets_df.columns = columns\n",
    "tweets_df.head()"
   ]
  },
  {
   "cell_type": "code",
   "execution_count": 36,
   "id": "14d3b81a-1e68-4714-8097-432d18b79372",
   "metadata": {},
   "outputs": [
    {
     "name": "stdout",
     "output_type": "stream",
     "text": [
      "261\n",
      "294\n",
      "81\n",
      "126\n",
      "136\n",
      "93\n",
      "183\n",
      "44\n",
      "64\n",
      "61\n",
      "109\n",
      "303\n",
      "291\n",
      "281\n",
      "273\n",
      "37\n",
      "43\n",
      "105\n",
      "284\n",
      "146\n",
      "185\n",
      "305\n"
     ]
    }
   ],
   "source": [
    "none_eng_tw = tweets_df[tweets_df['Language'] != 'en']#['Language'].tolist()\n",
    "# none_eng_tw['Tweet'].shape[0]\n",
    "for i in range(none_eng_tw['Tweet'].shape[0]):\n",
    "    print(len(none_eng_tw['Tweet'].iloc[i].encode(\"utf8\")))\n",
    "# Translate tweets from spanish, french etc\n",
    "\n",
    "# https://api.mymemory.translated.net/get?q=Hello%20World!&langpair=en|it\n",
    "\n",
    "# translator = google_translator()\n",
    "# none_eng_tw['Translated'] = none_eng_tw['Tweet'].apply(lambda x: translator.translate(x, lang_tgt ='en'))\n",
    "# none_eng_tw.head()"
   ]
  },
  {
   "cell_type": "code",
   "execution_count": 22,
   "id": "bea49a8f-2c6a-47eb-a10a-1c9b7771506f",
   "metadata": {},
   "outputs": [],
   "source": [
    "# Data upload to excel\n",
    "tweets_df.reset_index(level=[0,1], inplace=True)\n",
    "tweets_df.drop('level_1', axis=1,inplace=True)\n",
    "tweets_df['Date Created'] = tweets_df['Date Created'].dt.tz_localize(None)\n",
    "today = datetime.now().strftime(\"%d.%m.%Y_%H-%M\")\n",
    "file_name = 'tweets ' + today + '.xlsx'\n",
    "tweets_df.to_excel(file_name)"
   ]
  },
  {
   "cell_type": "code",
   "execution_count": 8,
   "id": "982b3ad5-b0c2-47bf-8c67-4bbde92c075a",
   "metadata": {},
   "outputs": [],
   "source": [
    "# # var. 2 - for multi page\n",
    "# def get_tweets(list_of_tweets, keyword, num_of_tweets, data_until):\n",
    "#     for tweet in tw.Cursor(api.search_tweets, q=keyword+' -filter:retweets', until=data_until, lang='en').items(num_of_tweets):\n",
    "#         dict_ = {\n",
    "#                  'Keywords': keyword,\n",
    "#                  'User Name': tweet.user.name,\n",
    "#                  'Screen Name': tweet.user.screen_name,\n",
    "#                  'Tweet Created at': tweet.created_at,\n",
    "#                  'Tweet Text': tweet.text,\n",
    "#                  'Location': tweet.user.location,\n",
    "#                  'Likes': tweet.favorite_count,\n",
    "#                  'Retweets': tweet.retweet_count\n",
    "#                  }\n",
    "#         list_of_tweets.append(dict_)\n",
    "#     return list_of_tweets"
   ]
  },
  {
   "cell_type": "code",
   "execution_count": null,
   "id": "51ab7dd4-f6f5-4938-8883-87d47a12d743",
   "metadata": {},
   "outputs": [],
   "source": []
  }
 ],
 "metadata": {
  "kernelspec": {
   "display_name": "Python 3",
   "language": "python",
   "name": "python3"
  },
  "language_info": {
   "codemirror_mode": {
    "name": "ipython",
    "version": 3
   },
   "file_extension": ".py",
   "mimetype": "text/x-python",
   "name": "python",
   "nbconvert_exporter": "python",
   "pygments_lexer": "ipython3",
   "version": "3.8.8"
  }
 },
 "nbformat": 4,
 "nbformat_minor": 5
}
