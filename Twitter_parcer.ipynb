{
 "cells": [
  {
   "cell_type": "code",
   "execution_count": 34,
   "id": "753178fc-eb3a-4da5-b497-8e5132601d6d",
   "metadata": {},
   "outputs": [],
   "source": [
    "import os\n",
    "import tweepy as tw\n",
    "import pandas as pd\n",
    "from datetime import datetime\n",
    "import configparser"
   ]
  },
  {
   "cell_type": "code",
   "execution_count": 36,
   "id": "1a791e42-32be-4a7b-a572-21295816956d",
   "metadata": {},
   "outputs": [],
   "source": [
    "# API set-ups for the use of Twitter API\n",
    "config = configparser.ConfigParser()\n",
    "config.read('config.ini')\n",
    "\n",
    "api_key = config['twitter']['api_key']\n",
    "api_key_secret = config['twitter']['api_key_secret']\n",
    "\n",
    "access_token = config['twitter']['access_token']\n",
    "access_token_secret = config['twitter']['access_token_secret']\n",
    "\n",
    "auth = tw.OAuthHandler(api_key, api_key_secret)\n",
    "auth.set_access_token(access_token, access_token_secret)\n",
    "api = tw.API(auth) "
   ]
  },
  {
   "cell_type": "code",
   "execution_count": 71,
   "id": "70506df4-f702-4d66-8f30-6f5f65d77037",
   "metadata": {},
   "outputs": [],
   "source": [
    "#var. 1\n",
    "# search_query = \"alejandro AND pozuelo\"\n",
    "\n",
    "search_results_dict = {}\n",
    "def search_tweets(search_query, no_of_tweets=5):\n",
    "    try:\n",
    "        #Search without retweets\n",
    "        tweets = api.search_tweets(q=search_query+' -filter:retweets', result_type='recent', count=no_of_tweets)\n",
    "        \n",
    "        #Pulling Some attributes from the tweet\n",
    "        attributes_container = [[tweet.user.screen_name, tweet.created_at, tweet.text] for tweet in tweets]\n",
    "        #Collecting results to dict\n",
    "        search_results_dict[search_query] = attributes_container\n",
    "    except BaseException as e:\n",
    "        print('Status Failed On,',str(e))\n",
    "    return search_results_dict\n",
    "\n",
    "\n",
    "\n",
    "#     #Creation of column list to rename the columns in the dataframe\n",
    "#     columns = [\"User\", \"Date Created\", \"Tweet\"]\n",
    "    \n",
    "#     #Creation of Dataframe\n",
    "#     tweets_df = pd.DataFrame(attributes_container, columns=columns)\n",
    "\n"
   ]
  },
  {
   "cell_type": "code",
   "execution_count": 74,
   "id": "3c0197c5-42ec-43c7-956d-92c8d2487b14",
   "metadata": {},
   "outputs": [],
   "source": [
    "search_list = ['issa kallon', 'humphreys rotherham', 'jeremy ebobisse']\n",
    "for query in search_list:\n",
    "    search_tweets(query, 7)"
   ]
  },
  {
   "cell_type": "code",
   "execution_count": 80,
   "id": "5afa239d-9c79-4ea6-95fa-11e3233d3470",
   "metadata": {},
   "outputs": [
    {
     "data": {
      "text/plain": [
       "MultiIndex([(    'issa kallon', 0),\n",
       "            (    'issa kallon', 1),\n",
       "            (    'issa kallon', 2),\n",
       "            ('jeremy ebobisse', 0),\n",
       "            ('jeremy ebobisse', 1),\n",
       "            ('jeremy ebobisse', 2),\n",
       "            ('jeremy ebobisse', 3),\n",
       "            ('jeremy ebobisse', 4),\n",
       "            ('jeremy ebobisse', 5),\n",
       "            ('jeremy ebobisse', 6)],\n",
       "           )"
      ]
     },
     "execution_count": 80,
     "metadata": {},
     "output_type": "execute_result"
    }
   ],
   "source": [
    "## search result to dataframe\n",
    "#Creation of column list to rename the columns in the dataframe\n",
    "columns = [\"User\", \"Date Created\", \"Tweet\"]\n",
    "#Creation of Dataframe\n",
    "tweets_df = pd.concat({k: pd.DataFrame(v) for k, v in search_results_dict.items()}, axis=0)\n",
    "tweets_df.columns = columns\n",
    "tweets_df"
   ]
  },
  {
   "cell_type": "code",
   "execution_count": 84,
   "id": "168ee9c0-358c-4e63-a285-76580da0c793",
   "metadata": {},
   "outputs": [
    {
     "name": "stdout",
     "output_type": "stream",
     "text": [
      "Pour ceux qui ont Issa Kallon sur #Sorare vous allez bientôt pouvoir l’utiliser à nouveau normalement\n",
      "According to some sources in China, Issa Kallon, Shanghai SIPG's new signing from Cambuur, has fallen out with the… https://t.co/7YeGlCoNX4\n",
      "@FabioSorare @Sorarechina33 What about Issa kallon ?\n",
      "@Extratime Billy, this is Jeremy Ebobisse. He's young. He's domestic. He's a physical, technical player that is tou… https://t.co/MiY2kSPbhT\n",
      "2022 🇺🇸 Major League Soccer xG Leaders\n",
      "\n",
      "Hany Mukhtar (19.5)\n",
      "Javier Hernández (17.3)\n",
      "Dániel Gazdag (16.5)\n",
      "Valentín C… https://t.co/jBjgiV2j2Z\n",
      "2022 🇺🇸 Major League Soccer Goals Leaders\n",
      "\n",
      "Hany Mukhtar (23)\n",
      "Sebastián Driussi (21)\n",
      "Dániel Gazdag (19)\n",
      "Jesus Ferrei… https://t.co/6vNkXuvZ4C\n",
      "Cade Cowell comes on for Jeremy Ebobisse. https://t.co/eJkeukT6Lk\n",
      "Benjamin Kikanovic scores to double the Earthquakes lead on an assist from Jeremy Ebobisse #USMNT https://t.co/aTfrwSEp2d\n",
      "Jeremy Ebobisse with 7 more goals than the leading Timbers goal scorer, Niezgoda, who’s currently being benched for… https://t.co/JYtIKQ2XgY\n",
      "@tommerdahl https://t.co/ULESOUiLUS\n",
      "\n",
      "Was just sent this too. \n",
      "\n",
      "That’s fascinating.\n"
     ]
    }
   ],
   "source": [
    "for tw in tweets_df['Tweet']:\n",
    "    print(tw)"
   ]
  },
  {
   "cell_type": "code",
   "execution_count": 79,
   "id": "4b2df029-604c-4de4-8734-91640f7e5009",
   "metadata": {},
   "outputs": [],
   "source": [
    "tweets_df.to_csv('twwets_06.csv')"
   ]
  },
  {
   "cell_type": "code",
   "execution_count": 69,
   "id": "982b3ad5-b0c2-47bf-8c67-4bbde92c075a",
   "metadata": {},
   "outputs": [],
   "source": [
    "# # var. 2 - for multi page\n",
    "# def get_tweets(list_of_tweets, keyword, num_of_tweets, data_until):\n",
    "#     for tweet in tw.Cursor(api.search_tweets, q=keyword+' -filter:retweets', until=data_until, lang='en').items(num_of_tweets):\n",
    "#         dict_ = {\n",
    "#                  'Keywords': keyword,\n",
    "#                  'User Name': tweet.user.name,\n",
    "#                  'Screen Name': tweet.user.screen_name,\n",
    "#                  'Tweet Created at': tweet.created_at,\n",
    "#                  'Tweet Text': tweet.text,\n",
    "#                  'Location': tweet.user.location,\n",
    "#                  'Likes': tweet.favorite_count,\n",
    "#                  'Retweets': tweet.retweet_count\n",
    "#                  }\n",
    "#         list_of_tweets.append(dict_)\n",
    "#     return list_of_tweets"
   ]
  },
  {
   "cell_type": "code",
   "execution_count": 71,
   "id": "51ab7dd4-f6f5-4938-8883-87d47a12d743",
   "metadata": {},
   "outputs": [
    {
     "data": {
      "text/html": [
       "<div>\n",
       "<style scoped>\n",
       "    .dataframe tbody tr th:only-of-type {\n",
       "        vertical-align: middle;\n",
       "    }\n",
       "\n",
       "    .dataframe tbody tr th {\n",
       "        vertical-align: top;\n",
       "    }\n",
       "\n",
       "    .dataframe thead th {\n",
       "        text-align: right;\n",
       "    }\n",
       "</style>\n",
       "<table border=\"1\" class=\"dataframe\">\n",
       "  <thead>\n",
       "    <tr style=\"text-align: right;\">\n",
       "      <th></th>\n",
       "    </tr>\n",
       "  </thead>\n",
       "  <tbody>\n",
       "  </tbody>\n",
       "</table>\n",
       "</div>"
      ],
      "text/plain": [
       "Empty DataFrame\n",
       "Columns: []\n",
       "Index: []"
      ]
     },
     "execution_count": 71,
     "metadata": {},
     "output_type": "execute_result"
    }
   ],
   "source": []
  }
 ],
 "metadata": {
  "kernelspec": {
   "display_name": "Python 3",
   "language": "python",
   "name": "python3"
  },
  "language_info": {
   "codemirror_mode": {
    "name": "ipython",
    "version": 3
   },
   "file_extension": ".py",
   "mimetype": "text/x-python",
   "name": "python",
   "nbconvert_exporter": "python",
   "pygments_lexer": "ipython3",
   "version": "3.8.8"
  }
 },
 "nbformat": 4,
 "nbformat_minor": 5
}
