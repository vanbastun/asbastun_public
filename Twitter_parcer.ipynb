{
 "cells": [
  {
   "cell_type": "code",
   "execution_count": 1,
   "id": "753178fc-eb3a-4da5-b497-8e5132601d6d",
   "metadata": {},
   "outputs": [],
   "source": [
    "import os\n",
    "import requests\n",
    "import tweepy as tw\n",
    "import pandas as pd\n",
    "from datetime import datetime\n",
    "import configparser\n",
    "import time"
   ]
  },
  {
   "cell_type": "code",
   "execution_count": 2,
   "id": "1a791e42-32be-4a7b-a572-21295816956d",
   "metadata": {},
   "outputs": [],
   "source": [
    "# API set-ups for the use of Twitter API\n",
    "config = configparser.ConfigParser()\n",
    "config.read('config.ini')\n",
    "\n",
    "api_key = config['twitter']['api_key']\n",
    "api_key_secret = config['twitter']['api_key_secret']\n",
    "\n",
    "access_token = config['twitter']['access_token']\n",
    "access_token_secret = config['twitter']['access_token_secret']\n",
    "\n",
    "auth = tw.OAuthHandler(api_key, api_key_secret)\n",
    "auth.set_access_token(access_token, access_token_secret)\n",
    "api = tw.API(auth) "
   ]
  },
  {
   "cell_type": "code",
   "execution_count": 3,
   "id": "70506df4-f702-4d66-8f30-6f5f65d77037",
   "metadata": {},
   "outputs": [],
   "source": [
    "### Search var. 1.2\n",
    "# Container to collect data\n",
    "search_results_dict = {}\n",
    "# Searching function. !only tweets from first twitter page will be returned\n",
    "def search_tweets(search_query, no_of_tweets=5):\n",
    "    try:\n",
    "        #Search without retweets\n",
    "        tweets = api.search_tweets(q=search_query+' -filter:retweets', result_type='recent', count=no_of_tweets, tweet_mode='extended')       \n",
    "        #Pulling Some attributes from the tweet\n",
    "        attributes_container = [[tweet.user.screen_name, tweet.created_at, tweet.full_text, tweet.lang] for tweet in tweets]\n",
    "        #Collecting results to dict\n",
    "        search_results_dict[search_query] = attributes_container\n",
    "    except BaseException as e:\n",
    "        print('Status Failed On,',str(e))\n",
    "    return search_results_dict"
   ]
  },
  {
   "cell_type": "code",
   "execution_count": 4,
   "id": "3c0197c5-42ec-43c7-956d-92c8d2487b14",
   "metadata": {},
   "outputs": [],
   "source": [
    "# !!!! CHECK sheet name !!!!!!!!!\n",
    "# Getting search list from excel file\n",
    "path = 'D:\\\\sorare.xlsx'\n",
    "search_df = pd.read_excel(path, sheet_name='search_short', header=0, usecols=\"B\")\n",
    "search_list = search_df['Search Name'].tolist()\n",
    "for query in search_list:\n",
    "     search_tweets(query, 3)\n"
   ]
  },
  {
   "cell_type": "code",
   "execution_count": 5,
   "id": "5afa239d-9c79-4ea6-95fa-11e3233d3470",
   "metadata": {},
   "outputs": [
    {
     "data": {
      "text/html": [
       "<div>\n",
       "<style scoped>\n",
       "    .dataframe tbody tr th:only-of-type {\n",
       "        vertical-align: middle;\n",
       "    }\n",
       "\n",
       "    .dataframe tbody tr th {\n",
       "        vertical-align: top;\n",
       "    }\n",
       "\n",
       "    .dataframe thead th {\n",
       "        text-align: right;\n",
       "    }\n",
       "</style>\n",
       "<table border=\"1\" class=\"dataframe\">\n",
       "  <thead>\n",
       "    <tr style=\"text-align: right;\">\n",
       "      <th></th>\n",
       "      <th></th>\n",
       "      <th>User</th>\n",
       "      <th>Date Created</th>\n",
       "      <th>Tweet</th>\n",
       "      <th>Language</th>\n",
       "    </tr>\n",
       "  </thead>\n",
       "  <tbody>\n",
       "    <tr>\n",
       "      <th>Jordan Beyer injury</th>\n",
       "      <th>0</th>\n",
       "      <td>AlexJamesSport</td>\n",
       "      <td>2022-10-20 09:01:00+00:00</td>\n",
       "      <td>Jordan Beyer missed last night as a precaution...</td>\n",
       "      <td>en</td>\n",
       "    </tr>\n",
       "    <tr>\n",
       "      <th rowspan=\"3\" valign=\"top\">Talles Magno injury</th>\n",
       "      <th>0</th>\n",
       "      <td>MicheleG3</td>\n",
       "      <td>2022-10-18 01:00:24+00:00</td>\n",
       "      <td>As told to @empiregass (who’s hiding in Mets s...</td>\n",
       "      <td>en</td>\n",
       "    </tr>\n",
       "    <tr>\n",
       "      <th>1</th>\n",
       "      <td>Soccerwriter</td>\n",
       "      <td>2022-10-16 17:06:13+00:00</td>\n",
       "      <td>Who's available: Morales out with calf injury,...</td>\n",
       "      <td>en</td>\n",
       "    </tr>\n",
       "    <tr>\n",
       "      <th>2</th>\n",
       "      <td>FrontRowSoccer</td>\n",
       "      <td>2022-10-16 17:05:02+00:00</td>\n",
       "      <td>WHO'S AVAILABLE: NYCFC's Morales out with calf...</td>\n",
       "      <td>en</td>\n",
       "    </tr>\n",
       "    <tr>\n",
       "      <th>Vina Ceara</th>\n",
       "      <th>0</th>\n",
       "      <td>CearaBOT</td>\n",
       "      <td>2022-10-23 01:41:03+00:00</td>\n",
       "      <td>Polêmica 😱: \\n \\n Magno Alves, jogador do Cear...</td>\n",
       "      <td>pt</td>\n",
       "    </tr>\n",
       "  </tbody>\n",
       "</table>\n",
       "</div>"
      ],
      "text/plain": [
       "                                 User              Date Created  \\\n",
       "Jordan Beyer injury 0  AlexJamesSport 2022-10-20 09:01:00+00:00   \n",
       "Talles Magno injury 0       MicheleG3 2022-10-18 01:00:24+00:00   \n",
       "                    1    Soccerwriter 2022-10-16 17:06:13+00:00   \n",
       "                    2  FrontRowSoccer 2022-10-16 17:05:02+00:00   \n",
       "Vina Ceara          0        CearaBOT 2022-10-23 01:41:03+00:00   \n",
       "\n",
       "                                                                   Tweet  \\\n",
       "Jordan Beyer injury 0  Jordan Beyer missed last night as a precaution...   \n",
       "Talles Magno injury 0  As told to @empiregass (who’s hiding in Mets s...   \n",
       "                    1  Who's available: Morales out with calf injury,...   \n",
       "                    2  WHO'S AVAILABLE: NYCFC's Morales out with calf...   \n",
       "Vina Ceara          0  Polêmica 😱: \\n \\n Magno Alves, jogador do Cear...   \n",
       "\n",
       "                      Language  \n",
       "Jordan Beyer injury 0       en  \n",
       "Talles Magno injury 0       en  \n",
       "                    1       en  \n",
       "                    2       en  \n",
       "Vina Ceara          0       pt  "
      ]
     },
     "execution_count": 5,
     "metadata": {},
     "output_type": "execute_result"
    }
   ],
   "source": [
    "## Search result to dataframe\n",
    "#Creation of column list to rename the columns in the dataframe\n",
    "columns = [\"User\", \"Date Created\", \"Tweet\", \"Language\"]\n",
    "#Creation of Dataframe\n",
    "tweets_df = pd.concat({k: pd.DataFrame(v) for k, v in search_results_dict.items()}, axis=0)\n",
    "tweets_df.columns = columns\n",
    "tweets_df.head()"
   ]
  },
  {
   "cell_type": "code",
   "execution_count": 7,
   "id": "14d3b81a-1e68-4714-8097-432d18b79372",
   "metadata": {},
   "outputs": [],
   "source": [
    "# Creating subDataFrame with non-English tweets\n",
    "none_eng_tw = tweets_df[tweets_df['Language'] != 'en']\n",
    "translated_tweets = []\n",
    "# Translate tweets from spanish, french etc. API https://mymemory.translated.net/ used.\n",
    "for i in range(none_eng_tw['Tweet'].shape[0]):\n",
    "    if len(none_eng_tw['Tweet'].iloc[i].encode(\"utf8\")) <= 500: #mymemory accept strings <=500 bytes\n",
    "        url = 'https://api.mymemory.translated.net/get?q=' + none_eng_tw['Tweet'].iloc[i].replace(  #mymemory didn't like #\n",
    "            '#', \"\") + \"&langpair=\" + none_eng_tw['Language'].iloc[i] + '|en'\n",
    "        r = requests.get(url)\n",
    "        tj = r.json()\n",
    "        translated_tweets.append(tj['responseData']['translatedText'])\n",
    "        time.sleep(5)\n",
    "    else:\n",
    "        print('tweet ' + i + ' is too long for translate')\n"
   ]
  },
  {
   "cell_type": "code",
   "execution_count": 8,
   "id": "ff13de43-51ef-4e9b-8a53-3f3731a0c711",
   "metadata": {},
   "outputs": [],
   "source": [
    "# Add tranlate to main df\n",
    "none_eng_tw['translated'] = pd.Series(translated_tweets).values\n",
    "full_df = tweets_df.merge(none_eng_tw[['translated']], how='left', left_index=True, right_index=True)"
   ]
  },
  {
   "cell_type": "code",
   "execution_count": 27,
   "id": "bea49a8f-2c6a-47eb-a10a-1c9b7771506f",
   "metadata": {},
   "outputs": [],
   "source": [
    "# Data upload to excel\n",
    "full_df.reset_index(level=[0,1], inplace=True)\n",
    "full_df.drop('level_1', axis=1,inplace=True)\n",
    "full_df['Date Created'] = full_df['Date Created'].dt.tz_localize(None).dt.floor('Min')\n",
    "today = datetime.now().strftime(\"%d.%m.%Y_%H-%M\")\n",
    "file_name = 'tweets ' + today + '.xlsx'\n",
    "full_df.to_excel(file_name)"
   ]
  },
  {
   "cell_type": "code",
   "execution_count": 8,
   "id": "982b3ad5-b0c2-47bf-8c67-4bbde92c075a",
   "metadata": {},
   "outputs": [],
   "source": [
    "# # var. 2 - for multi page\n",
    "# def get_tweets(list_of_tweets, keyword, num_of_tweets, data_until):\n",
    "#     for tweet in tw.Cursor(api.search_tweets, q=keyword+' -filter:retweets', until=data_until, lang='en').items(num_of_tweets):\n",
    "#         dict_ = {\n",
    "#                  'Keywords': keyword,\n",
    "#                  'User Name': tweet.user.name,\n",
    "#                  'Screen Name': tweet.user.screen_name,\n",
    "#                  'Tweet Created at': tweet.created_at,\n",
    "#                  'Tweet Text': tweet.text,\n",
    "#                  'Location': tweet.user.location,\n",
    "#                  'Likes': tweet.favorite_count,\n",
    "#                  'Retweets': tweet.retweet_count\n",
    "#                  }\n",
    "#         list_of_tweets.append(dict_)\n",
    "#     return list_of_tweets"
   ]
  },
  {
   "cell_type": "code",
   "execution_count": null,
   "id": "51ab7dd4-f6f5-4938-8883-87d47a12d743",
   "metadata": {},
   "outputs": [],
   "source": []
  }
 ],
 "metadata": {
  "kernelspec": {
   "display_name": "Python 3",
   "language": "python",
   "name": "python3"
  },
  "language_info": {
   "codemirror_mode": {
    "name": "ipython",
    "version": 3
   },
   "file_extension": ".py",
   "mimetype": "text/x-python",
   "name": "python",
   "nbconvert_exporter": "python",
   "pygments_lexer": "ipython3",
   "version": "3.8.8"
  }
 },
 "nbformat": 4,
 "nbformat_minor": 5
}
