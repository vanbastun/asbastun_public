{
 "cells": [
  {
   "cell_type": "markdown",
   "id": "b7a44494-bc06-44dd-b92b-3a1cc4353099",
   "metadata": {},
   "source": [
    "В этой задаче от вас требуется по предыдущим лайкам предсказать следующий трек, которому пользователь поставит лайк.\n",
    "\n",
    "Формат ввода\n",
    "Прдоставленные вам три файла:\n",
    "train - обучающий набор данных. Каждая строка - последовательность id треков, которые лайкнул один пользователь. Гарантируется, что лайки даны в той последовательности, в которой их ставил пользователь.\n",
    "\n",
    "test - набор тестовых данных. Имеет точно такой же формат, но в каждой строке не хватает последнего лайка, который надо предсказать.\n",
    "Тестовые данные разбита на public и private. Во время соревнования вы будет видеть результаты только на public данных. Финальный подсчет баллов в будет происходить на private данных.\n",
    "\n",
    "track_artists.csv - информация о исполнителях треков. Гарантируется, что у каждого трека есть ровно один исполнитель. Для треков, у которых фактически несколько исполнителей, мы оставили того, который считается основным исполнителем трека.\n",
    "Файл baseline.py содержит наивное решение. Обратите внимание, что это решение может выполняться больше одного часа.\n",
    "Файл score.py содержит код, который вы можете использовать, чтобы локально считать mrr для своего решения.\n",
    "Формат вывода\n",
    "В качестве решения необходимо отправить файл, в котором для каждого пользователя в отдельной строке будет не более 100 треков, разделенных пробелом.\n",
    "\n",
    "Примечания\n",
    "В качестве метрики используется MRR@100"
   ]
  },
  {
   "cell_type": "code",
   "execution_count": 1,
   "id": "0e82b0cd-797b-4552-bf6b-508aea2f2ebf",
   "metadata": {},
   "outputs": [],
   "source": [
    "import pandas as pd\n",
    "import numpy as np\n",
    "from itertools import islice\n",
    "import gc\n",
    "from tqdm.notebook import trange, tqdm"
   ]
  },
  {
   "cell_type": "code",
   "execution_count": 6,
   "id": "1d0886b1-bd92-409e-bae9-f04ecb4b3b82",
   "metadata": {},
   "outputs": [],
   "source": [
    "# getting likes count for each track --> DataFrame\n",
    "track_stats = {}\n",
    "with open('train') as f:\n",
    "    lines = f.readlines()\n",
    "    for line in lines:\n",
    "        tracks = line.strip().split(' ')\n",
    "        for track in tracks:\n",
    "            if track not in track_stats:\n",
    "                track_stats[track] = 0\n",
    "            track_stats[track] += 1\n",
    "        \n",
    "track_stats_df = pd.DataFrame.from_dict(track_stats, orient='index').reset_index()\n",
    "track_stats_df.columns = ['track', 'likes']"
   ]
  },
  {
   "cell_type": "code",
   "execution_count": 8,
   "id": "07746549-87c8-4e43-9a25-787b4b90884a",
   "metadata": {},
   "outputs": [
    {
     "data": {
      "text/html": [
       "<div>\n",
       "<style scoped>\n",
       "    .dataframe tbody tr th:only-of-type {\n",
       "        vertical-align: middle;\n",
       "    }\n",
       "\n",
       "    .dataframe tbody tr th {\n",
       "        vertical-align: top;\n",
       "    }\n",
       "\n",
       "    .dataframe thead th {\n",
       "        text-align: right;\n",
       "    }\n",
       "</style>\n",
       "<table border=\"1\" class=\"dataframe\">\n",
       "  <thead>\n",
       "    <tr style=\"text-align: right;\">\n",
       "      <th></th>\n",
       "      <th>track</th>\n",
       "      <th>likes</th>\n",
       "    </tr>\n",
       "  </thead>\n",
       "  <tbody>\n",
       "    <tr>\n",
       "      <th>0</th>\n",
       "      <td>333396</td>\n",
       "      <td>1</td>\n",
       "    </tr>\n",
       "    <tr>\n",
       "      <th>1</th>\n",
       "      <td>267089</td>\n",
       "      <td>1</td>\n",
       "    </tr>\n",
       "    <tr>\n",
       "      <th>2</th>\n",
       "      <td>155959</td>\n",
       "      <td>1</td>\n",
       "    </tr>\n",
       "    <tr>\n",
       "      <th>3</th>\n",
       "      <td>353335</td>\n",
       "      <td>1</td>\n",
       "    </tr>\n",
       "    <tr>\n",
       "      <th>4</th>\n",
       "      <td>414000</td>\n",
       "      <td>1</td>\n",
       "    </tr>\n",
       "  </tbody>\n",
       "</table>\n",
       "</div>"
      ],
      "text/plain": [
       "    track  likes\n",
       "0  333396      1\n",
       "1  267089      1\n",
       "2  155959      1\n",
       "3  353335      1\n",
       "4  414000      1"
      ]
     },
     "execution_count": 8,
     "metadata": {},
     "output_type": "execute_result"
    }
   ],
   "source": [
    "track_stats_df.head()"
   ]
  },
  {
   "cell_type": "code",
   "execution_count": null,
   "id": "8d540ab5-74bd-4b7f-b287-cc64efccd834",
   "metadata": {},
   "outputs": [],
   "source": [
    "track_artists_df = pd.read_csv('track_artists.csv') #song number, artist number"
   ]
  },
  {
   "cell_type": "code",
   "execution_count": null,
   "id": "cb9941cc-4e20-471f-9773-62f78b02a9f5",
   "metadata": {},
   "outputs": [],
   "source": [
    "track_likes_artist_df = track_stats_df.merge(track_artists_df, how='left', left_on='track', right_on='trackId').drop(columns='trackId')"
   ]
  },
  {
   "cell_type": "code",
   "execution_count": null,
   "id": "7a666ea3-d690-4116-b6d5-973903113ec1",
   "metadata": {},
   "outputs": [],
   "source": [
    "# creating prepared data from train data\n",
    "Y_list = []\n",
    "X_list = []\n",
    "with open('train') as f:\n",
    "    lines = list(islice(f, 0, 5000)) #slicing lines with start/end rows ### islice for taking part of data, cause limited resources\n",
    "    for (i, line) in enumerate(lines):\n",
    "        tracks_l = line.strip().split(' ')\n",
    "        Y_list.append(tracks_l[-1])\n",
    "        X_list.append(tracks_l[:-1])"
   ]
  },
  {
   "cell_type": "code",
   "execution_count": null,
   "id": "97497255-0cb7-4b30-8b53-3743721cbb84",
   "metadata": {},
   "outputs": [],
   "source": [
    "# temp df from read train\n",
    "t = pd.DataFrame({'track_liked': X_list, 'y': Y_list})\n",
    "\n",
    "t['y'] = t['y'].astype('int64')\n",
    "t = t.merge(track_likes_artist_df, how='left', left_on='y', right_on='track', copy=False)\n",
    "t.drop(columns=['track', 'likes_count'], inplace=True)\n",
    "t.rename(columns={'artistId':'y_artist'}, inplace=True)\n",
    "t.head()"
   ]
  },
  {
   "cell_type": "code",
   "execution_count": null,
   "id": "a38b887e-59b4-4cff-aad0-c772f70f41ab",
   "metadata": {},
   "outputs": [],
   "source": [
    "## General idea: to research columns-oriented dataframe (not enough resources to teach neural network with embeddings)\n",
    "# columns-oriented df\n",
    "user_preferences_df = t.explode('track_liked').reset_index()\n",
    "user_preferences_df.rename(columns={'index':'user_id'}, inplace=True)\n",
    "user_preferences_df = user_preferences_df.astype('int64')\n",
    "user_preferences_df.head()"
   ]
  },
  {
   "cell_type": "code",
   "execution_count": null,
   "id": "7f4034c9-4b42-4514-9d1f-4c6e94dbd45d",
   "metadata": {},
   "outputs": [],
   "source": [
    "# DataFrames merge to get favorit artist for each user\n",
    "user_track_artist_df = user_preferences_df.merge(track_likes_artist_df, how='left', left_on='track_liked', right_on='track', copy=False)\n",
    "user_track_artist_df.drop(columns=['track'], inplace=True)\n",
    "##  counting user likes for each artist & prepare to add new column to df\n",
    "t2 = user_track_artist_df[['user_id', 'artistId']].value_counts().reset_index()\n",
    "t2.rename(columns={0:'user_likes_per_artist'}, inplace=True)\n",
    "# general df with user likes per artist\n",
    "user_track_artist_df = user_track_artist_df.merge(t2, how='left', on=['user_id', 'artistId'])\n",
    "user_track_artist_df.sample(5)"
   ]
  },
  {
   "cell_type": "code",
   "execution_count": null,
   "id": "7c318449-b092-4650-8c8d-23945b24b230",
   "metadata": {},
   "outputs": [],
   "source": [
    "# getting most liked songs for each artist\n",
    "t3 = track_likes_artist_df.sort_values([\"artistId\", \"likes_count\"]).groupby(\"artistId\").tail(1)\n",
    "t3.drop(columns=['likes_count'], inplace=True)\n",
    "user_track_artist_df = user_track_artist_df.merge(t3, how='left', on='artistId')\n",
    "user_track_artist_df.rename(columns={'track':'best_song_of_artist'}, inplace=True)"
   ]
  },
  {
   "cell_type": "code",
   "execution_count": null,
   "id": "6f5e17e0-c3d8-4ea3-983b-0f1f7d2df266",
   "metadata": {},
   "outputs": [],
   "source": [
    "# general df\n",
    "user_track_artist_df.head()\n",
    "# user_track_artist_df.to_csv('user_track_artist_df.csv')"
   ]
  },
  {
   "cell_type": "code",
   "execution_count": null,
   "id": "e454f54e-f6a9-4cb0-b229-6c34ab661cf4",
   "metadata": {},
   "outputs": [],
   "source": [
    "# Preparation data for model\n",
    "features = ['user_id', 'track_liked', 'likes_count', 'artistId', 'user_likes_per_artist', 'best_song_of_artist']\n",
    "y = user_track_artist_df['y']\n",
    "X = user_track_artist_df[features]"
   ]
  },
  {
   "cell_type": "code",
   "execution_count": null,
   "id": "399193aa-b6a7-4ced-a755-10f9e5c8dfbe",
   "metadata": {},
   "outputs": [],
   "source": [
    "from sklearn.model_selection import train_test_split\n",
    "X_train, X_test, y_train, y_test = train_test_split(X, y, test_size=0.15, random_state=0)"
   ]
  },
  {
   "cell_type": "code",
   "execution_count": null,
   "id": "1c73cb30-2089-4e71-890e-2a44845df9b2",
   "metadata": {},
   "outputs": [],
   "source": [
    "from sklearn.ensemble import RandomForestClassifier\n",
    "from sklearn.neighbors import KNeighborsClassifier\n",
    "from sklearn.naive_bayes import MultinomialNB\n",
    "from sklearn.metrics import accuracy_score\n",
    "import time"
   ]
  },
  {
   "cell_type": "code",
   "execution_count": null,
   "id": "ea35fe24-57d2-4f36-b701-bb76410ae492",
   "metadata": {},
   "outputs": [],
   "source": [
    "#Classifier implementing the k-nearest neighbors vote.\n",
    "startTime = time.time()\n",
    "neigh_model = KNeighborsClassifier(n_neighbors=15)\n",
    "neigh_model.fit(X_train, y_train) \n",
    "neigh_y_pred = neigh_model.predict(X_test)\n",
    "print(accuracy_score(neigh_y_pred, y_test))\n",
    "executionTime = (time.time() - startTime)\n",
    "print('Execution time in mins: ' + str(executionTime/60))\n",
    "gc.collect()"
   ]
  },
  {
   "cell_type": "code",
   "execution_count": null,
   "id": "7683915c-2576-481b-b5bd-8dca3debbb32",
   "metadata": {},
   "outputs": [],
   "source": [
    "# Random forest classifier\n",
    "startTime = time.time()\n",
    "rfc_model = RandomForestClassifier(n_estimators=100, max_depth=5, random_state=1)\n",
    "rfc_model.fit(X_train, y_train) \n",
    "rfc_y_pred = rfc_model.predict(X_test)\n",
    "print(accuracy_score(rfc_y_pred, y_test))\n",
    "executionTime = (time.time() - startTime)\n",
    "print('Execution time in mins: ' + str(executionTime/60))\n",
    "gc.collect()"
   ]
  },
  {
   "cell_type": "code",
   "execution_count": null,
   "id": "74cece1a-ee3b-442f-931f-4907f410ef8c",
   "metadata": {},
   "outputs": [],
   "source": [
    "#Naive Bayes classifier for multinomial models\n",
    "startTime = time.time()\n",
    "nb_model = MultinomialNB()\n",
    "nb_model.fit(X_train, y_train) \n",
    "nb_y_pred = nb_model.predict(X_test)\n",
    "print(accuracy_score(nb_y_pred, y_test))\n",
    "executionTime = (time.time() - startTime)\n",
    "print('Execution time in mins: ' + str(executionTime/60))\n",
    "gc.collect()"
   ]
  },
  {
   "cell_type": "markdown",
   "id": "c044c89d-7f4d-4e39-a24e-21371e3bb67d",
   "metadata": {},
   "source": [
    "neigh_accuracy_score = 0.007493232983429062\n",
    "rfc_accuracy_score = 0.01964085297418631 # best result\n",
    "nb_accuracy_score = 0.001270878721859114\n"
   ]
  },
  {
   "cell_type": "code",
   "execution_count": null,
   "id": "5dc58d30-42fc-4721-b21f-13f30685f24b",
   "metadata": {},
   "outputs": [],
   "source": [
    "# getting test data\n",
    "X_list = []\n",
    "with open('test') as f:\n",
    "    lines = list(islice(f, 0, None)) #slicing lines with start/end rows\n",
    "    for (i, line) in enumerate(lines):\n",
    "        tracks_l = line.strip().split(' ')\n",
    "        X_list.append(tracks_l)"
   ]
  },
  {
   "cell_type": "code",
   "execution_count": null,
   "id": "0423702d-4843-469c-b439-695bf9569469",
   "metadata": {},
   "outputs": [],
   "source": [
    "# creaing df from test data\n",
    "test_df = pd.DataFrame({'track_liked': X_list})\n",
    "test_df = test_df.explode('track_liked').reset_index()\n",
    "test_df.rename(columns={'index':'user_id'}, inplace=True)\n",
    "test_df = test_df.astype('int64')\n",
    "test_df.head()"
   ]
  },
  {
   "cell_type": "code",
   "execution_count": null,
   "id": "848d3c70-4b81-4f2b-8fb0-41fd7ec7b87a",
   "metadata": {},
   "outputs": [],
   "source": [
    "# preparation test df for prediction\n",
    "test_df = test_df.merge(track_likes_artist_df, how='left', left_on='track_liked', right_on='track', copy=False)\n",
    "test_df.drop(columns=['track'], inplace=True)\n",
    "\n",
    "tt2 = test_df[['user_id', 'artistId']].value_counts().reset_index()\n",
    "tt2.rename(columns={0:'user_likes_per_artist'}, inplace=True)\n",
    "test_df = test_df.merge(tt2, how='left', on=['user_id', 'artistId'])\n",
    "\n",
    "test_df = test_df.merge(t3, how='left', on='artistId')\n",
    "test_df.rename(columns={'track':'best_song_of_artist'}, inplace=True)\n",
    "test_df.head()\n",
    "gc.collect()"
   ]
  },
  {
   "cell_type": "code",
   "execution_count": null,
   "id": "ffed2633-ebf0-41aa-84ff-216a9e57626c",
   "metadata": {},
   "outputs": [],
   "source": [
    "# test df prediction, partition execution cause limited resources\n",
    "pred_list = []\n",
    "for i in trange(0, len(test_df), 100000):\n",
    "    rfc_test_pred = rfc_model.predict(test_df[i: i+100000])\n",
    "    pred_list.append(rfc_test_pred)\n",
    "    gc.collect()\n"
   ]
  },
  {
   "cell_type": "code",
   "execution_count": null,
   "id": "f9b42e89-5c4d-40d0-8488-8be7db9c2465",
   "metadata": {},
   "outputs": [],
   "source": [
    "# creating df with predictions\n",
    "result_df=pd.DataFrame(pred_list[0], columns=['rfc_prediction'])\n",
    "\n",
    "for i in range(1, len(pred_list)):\n",
    "    tmp = pd.DataFrame(pred_list[i], columns=['rfc_prediction'])\n",
    "    result_df = pd.concat([result_df, tmp], ignore_index=True, copy=False)\n",
    "# result_df.to_csv('pred_test_5k.csv')"
   ]
  },
  {
   "cell_type": "code",
   "execution_count": null,
   "id": "d40fa8c6-f60b-47d4-8648-3d50e7d61b76",
   "metadata": {},
   "outputs": [],
   "source": [
    "# concat datatframes to get results pairs: 'user_id'--'rfc_predicton'\n",
    "f = pd.concat([test_df, result_df], axis=1)\n",
    "f.head()"
   ]
  },
  {
   "cell_type": "code",
   "execution_count": null,
   "id": "ebe22ea1-27e8-4dbc-b963-b9fd716c5f2c",
   "metadata": {},
   "outputs": [],
   "source": [
    "rfc_result = f[['user_id', 'rfc_prediction']\n",
    "        ].groupby(by=['user_id', 'rfc_prediction']\n",
    "        ).size(\n",
    "        ).reset_index(\n",
    "        ).rename(columns={0:'pred_count'}\n",
    "        ).sort_values(by=['user_id', 'pred_count'], ascending=[True,False]\n",
    "        )[['user_id', 'rfc_prediction']\n",
    "        ].groupby(by='user_id').agg({'rfc_prediction': lambda x: x.tolist()})\n",
    "rfc_result.head()"
   ]
  },
  {
   "cell_type": "markdown",
   "id": "f90e27c5-d558-484c-84c1-106c5c354e25",
   "metadata": {},
   "source": [
    " Start tuning baseline naive to improve prediction "
   ]
  },
  {
   "cell_type": "markdown",
   "id": "f2709a33-4f4f-4a91-8be9-ca592d33f07f",
   "metadata": {},
   "source": [
    " 1. Idea: to recommend more track of most liked artist"
   ]
  },
  {
   "cell_type": "code",
   "execution_count": null,
   "id": "2aa6b007-2436-4680-aac6-b14fb42a2966",
   "metadata": {},
   "outputs": [],
   "source": [
    "# getting info about favorit artist for each user\n",
    "fav_art_df = test_df[['user_id', 'track_liked', 'artistId', 'user_likes_per_artist']].sort_values(by=['user_id', 'artistId', 'user_likes_per_artist'], ascending=[True, True, False])\n",
    "\n",
    "tdf = fav_art_df.groupby('user_id')['user_likes_per_artist'].max().reset_index()\n",
    "\n",
    "fav_art_df = fav_art_df.merge(tdf, how='left', on='user_id', suffixes=['_all', '_max'])\n",
    "fav_art_df.head()"
   ]
  },
  {
   "cell_type": "code",
   "execution_count": null,
   "id": "15f1377b-dac9-4c78-a92f-e682bade5096",
   "metadata": {},
   "outputs": [],
   "source": [
    "# users_favorite_artist_and_his_liked_tracks_df\n",
    "ufaahlt_df = fav_art_df.loc[fav_art_df['user_likes_per_artist_all']==fav_art_df['user_likes_per_artist_max']][['user_id', 'track_liked', 'artistId']]"
   ]
  },
  {
   "cell_type": "code",
   "execution_count": null,
   "id": "27b542a8-b0d8-4dfb-8747-d403be1ca762",
   "metadata": {},
   "outputs": [],
   "source": [
    "# collecting non-liked by user & most-liked-by-all-users tracks of fav artist, for each user\n",
    "more_fav_artist_songs = {}\n",
    "for i in trange(ufaahlt_df['user_id'].max() +1):\n",
    "    a_id = ufaahlt_df[ufaahlt_df['user_id']==i]['artistId'].unique()[0]\n",
    "    tr_list = ufaahlt_df[ufaahlt_df['user_id']==i]['track_liked'].to_list()\n",
    "    more_fav_artist_songs[i] = track_likes_artist_df.loc[(track_likes_artist_df['artistId']==a_id) & (~track_likes_artist_df['track'].isin(tr_list))].head()['track'].to_list()"
   ]
  },
  {
   "cell_type": "code",
   "execution_count": null,
   "id": "2b1b30d4-5d21-4ea5-93ae-783fb33dd4c6",
   "metadata": {},
   "outputs": [],
   "source": [
    "fav_artist_pred_df = pd.DataFrame(more_fav_artist_songs.items())"
   ]
  },
  {
   "cell_type": "code",
   "execution_count": null,
   "id": "5c8565a2-7522-4ba4-8273-79bd80e6a802",
   "metadata": {},
   "outputs": [],
   "source": [
    "# DataFrame with 2 columns prediction:from ML-model and from more_fav_artist_songs\n",
    "result_df = rfc_result.merge(fav_artist_pred_df, how='left', left_on='user_id', right_on=0).drop(columns=0).rename(columns={1:'fa_prediction'})\n",
    "res.head()"
   ]
  },
  {
   "cell_type": "markdown",
   "id": "745ad99f-2761-4464-aa18-ac84d70a95b5",
   "metadata": {},
   "source": [
    "2. Idea: to recommend more track of artist, whose track was liked last"
   ]
  },
  {
   "cell_type": "code",
   "execution_count": null,
   "id": "33f9c99a-89c6-459f-b8c8-550d4fbf115e",
   "metadata": {},
   "outputs": [],
   "source": [
    "#get artist which song is last liked\n",
    "two_lists_df = test_df[['user_id','track_liked', 'artistId']].groupby(by='user_id').agg({'track_liked': lambda x: x.tolist(), 'artistId': lambda x: x.tolist()})\n",
    "\n",
    "two_lists_df['last_like_artist'] =  [item[-1] for item in two_lists_df['artistId']]\n",
    "two_lists_df.head()"
   ]
  },
  {
   "cell_type": "code",
   "execution_count": null,
   "id": "de17fe35-54f2-4d74-ab71-4ebb8ef079b8",
   "metadata": {},
   "outputs": [],
   "source": [
    "#collecting $ --> Dataframe\n",
    "more_last_artist_songs = {}\n",
    "for i in trange(two_lists_df.last_valid_index()+1):\n",
    "    a_id = two_lists_df.iloc[i]['last_like_artist']\n",
    "    tr_list = two_lists_df.iloc[i]['track_liked']\n",
    "    tr_list2 = ml_fa_df.iloc[i]['ml_fa']\n",
    "    more_last_artist_songs[i] = track_likes_artist_df.loc[\n",
    "                                (track_likes_artist_df['artistId']==a_id) & (\n",
    "                                ~track_likes_artist_df['track'].isin(tr_list2)) & (\n",
    "                                ~track_likes_artist_df['track'].isin(tr_list))].head()['track'].to_list()\n",
    "last_songs_likes_df = pd.DataFrame(more_last_artist_songs.items()) "
   ]
  },
  {
   "cell_type": "code",
   "execution_count": null,
   "id": "6b3624c8-e5c1-4346-9ec4-6f0b7b43f8ee",
   "metadata": {},
   "outputs": [],
   "source": [
    "# dataframe with predictions of 3 ways: machine learning(rfc), favorit authors other songs(fa), other tracks of artist of last liked song (ls)\n",
    "res3 = ml_fa_df.merge(last_songs_likes_df, how='left', left_on='user_id', right_on=0).drop(columns=0).rename(columns={1:'ls_prediction'})\n",
    "res3.head()"
   ]
  },
  {
   "cell_type": "markdown",
   "id": "65e23c4c-3b75-443d-8dfc-04a5a5ec6392",
   "metadata": {},
   "source": [
    "3. Getting recomendation of most popular songs in general"
   ]
  },
  {
   "cell_type": "code",
   "execution_count": null,
   "id": "89a037b6-e844-4cbe-b684-48fb473c1730",
   "metadata": {},
   "outputs": [],
   "source": [
    "# Top 100 tracks general\n",
    "popular_tracks = sorted(track_stats.items(), key=lambda item: item[1], reverse=True)[:100]\n",
    "popular_tracks_list = [x[0] for x in popular_tracks]\n",
    "\n",
    "# top 1000 tracks general\n",
    "top_tracks = sorted(track_stats.items(), key=lambda item: item[1], reverse=True)[:1000]\n",
    "top_tracks_set = set([x[0] for x in top_tracks])\n",
    "\n",
    "# dict with scores top 100 songs (squared from likes count ?)\n",
    "global_track_score = {}\n",
    "for track in top_tracks:\n",
    "    global_track_score[track[0]] = track_stats[track[0]] ** 0.5"
   ]
  },
  {
   "cell_type": "code",
   "execution_count": null,
   "id": "4089be1e-8bba-4d69-ae16-4bd7e8526652",
   "metadata": {},
   "outputs": [],
   "source": [
    "# dictionary: song: [other songs with count_likes]\n",
    "track_count = {}\n",
    "with open('train') as f:\n",
    "    lines = f.readlines()\n",
    "    for (i, line) in enumerate(lines):\n",
    "        tracks = line.strip().split(' ')\n",
    "        filtered_tracks = []\n",
    "        for track in tracks:\n",
    "            if track in top_tracks_set:\n",
    "                filtered_tracks.append(track)\n",
    "        for i in range(len(filtered_tracks)):\n",
    "            track1 = filtered_tracks[i]\n",
    "            for j in range(len(filtered_tracks)):\n",
    "                if i != j:\n",
    "                    track2 = filtered_tracks[j]\n",
    "                    if track1 not in track_count:\n",
    "                        track_count[track1] = {}\n",
    "                    current_count = track_count[track1]\n",
    "                    if track2 not in current_count:\n",
    "                        current_count[track2] = 0\n",
    "                    current_count[track2] += 1"
   ]
  },
  {
   "cell_type": "code",
   "execution_count": null,
   "id": "5ea3c824-8594-4ed7-917e-b63e078ab941",
   "metadata": {},
   "outputs": [],
   "source": [
    "# getting recomendation for test data\n",
    "with open('test') as f:\n",
    "    test = f.readlines()\n",
    "result = []\n",
    "empty_track_score = 0\n",
    "for query in test:\n",
    "    test_tracks = query.strip().split(' ')\n",
    "    track_score = {}\n",
    "    for track in test_tracks:\n",
    "        if track in track_count:\n",
    "            for track_id in track_count[track]:\n",
    "                score = track_count[track][track_id]\n",
    "                if track_id not in track_score:\n",
    "                    track_score[track_id] = 0\n",
    "                track_score[track_id] += score / global_track_score[track] / global_track_score[track_id]\n",
    "    if len(track_score) == 0:\n",
    "        result.append(' '.join(popular_tracks_list) + '\\n')\n",
    "        empty_track_score += 1\n",
    "    else:\n",
    "        best_tracks = sorted(track_score.items(), key=lambda item: item[1], reverse=True)[:100]\n",
    "        result.append(' '.join([x[0] for x in best_tracks]) + '\\n')\n",
    "    "
   ]
  },
  {
   "cell_type": "code",
   "execution_count": null,
   "id": "ce877976-e4a7-42c8-af43-06664ea05077",
   "metadata": {},
   "outputs": [],
   "source": [
    "top_song_df = pd.DataFrame(result).reset_index()\n",
    "top_song_df.rename(columns={'index':'user_id', 0: 'top_song_pr'}, inplace=True)"
   ]
  },
  {
   "cell_type": "code",
   "execution_count": null,
   "id": "253565d8-7cdd-4e41-92ea-a0cbd64a5013",
   "metadata": {},
   "outputs": [],
   "source": [
    "top_song_df['list_top_song_pr'] = [[int(x) for x in top_song_df['top_song_pr'][i].strip().split()] for i in range(len(top_song_df))]"
   ]
  },
  {
   "cell_type": "code",
   "execution_count": null,
   "id": "affdd07f-f883-4f72-be79-fba4295deb98",
   "metadata": {},
   "outputs": [],
   "source": [
    "# dataframe with predictions of 4 ways: machine learning(rfc), \n",
    "#                                      favorit authors other songs(fa), \n",
    "#                                      other tracks of artist of last liked song (ls)\n",
    "#                                      recomendation of most popular(liked) songs in general\n",
    "res3 = res3.merge(top_song_df[['user_id', 'top_song_pr']], how='left', on='user_id')\n",
    "res3.head()"
   ]
  },
  {
   "cell_type": "code",
   "execution_count": null,
   "id": "b0a3bb2e-550d-45e9-8559-bf2144dfc705",
   "metadata": {},
   "outputs": [],
   "source": [
    "# preparing data for final check in different combinations (scoring abuse)\n",
    "res3['ml_fa_ls'] = res3['rfc_prediction'] + res3['fa_prediction'] + res3['ls_prediction'] + res3['top_song_pr']\n",
    "res3['ml_ls_fa'] = res3['rfc_prediction'] + res3['ls_prediction'] + res3['fa_prediction'] + res3['top_song_pr']\n",
    "res3['ls_ml_fa'] = res3['ls_prediction'] + res3['rfc_prediction'] + res3['fa_prediction'] + res3['top_song_pr']\n",
    "res3['ls_fa_ml'] = res3['ls_prediction'] + res3['fa_prediction'] + res3['rfc_prediction'] + res3['top_song_pr']\n",
    "res3['fa_ml_ls'] = res3['fa_prediction'] + res3['rfc_prediction'] + res3['ls_prediction'] + res3['top_song_pr']\n",
    "res3['fa_ls_ml'] = res3['fa_prediction'] + res3['ls_prediction'] + res3['rfc_prediction'] + res3['top_song_pr']"
   ]
  },
  {
   "cell_type": "code",
   "execution_count": null,
   "id": "19fedb85-9572-4b4f-9f10-6550e9f97add",
   "metadata": {},
   "outputs": [],
   "source": [
    "# remove duplicates from list, keep elements order, set len(list)=100\n",
    "def remove_dup(seq):\n",
    "    seen = set()\n",
    "    return [x for x in seq if x not in seen and not seen.add(x)][:100]"
   ]
  },
  {
   "cell_type": "code",
   "execution_count": null,
   "id": "a346038e-92ca-4bc5-a777-b340f910c5ca",
   "metadata": {},
   "outputs": [],
   "source": [
    "iter_pred = ['ml_fa_ls', 'ml_ls_fa', 'ls_ml_fa', 'ls_fa_ml', 'fa_ml_ls', 'fa_ls_ml']\n",
    "for el in iter_pred:\n",
    "    res3[el] = res3[el].apply(remove_dup)"
   ]
  },
  {
   "cell_type": "code",
   "execution_count": null,
   "id": "188186ec-2df8-4161-b63b-d34952a8100d",
   "metadata": {},
   "outputs": [],
   "source": [
    "# writing files to check score on YandexCup site\n",
    "for elem in iter_pred:\n",
    "    file = 'result_' + elem  \n",
    "    for i in range(len(res3[elem])):\n",
    "        result = []\n",
    "        result.append(' '.join(res3[elem][i]) + '\\n')\n",
    "        with open(file, 'a') as f:  # writing file in 'append' mode string by string\n",
    "            f.writelines(result)"
   ]
  },
  {
   "cell_type": "markdown",
   "id": "4a0efbc5-bf4a-4d91-8b3d-1aa7531bf1ea",
   "metadata": {},
   "source": [
    "CONCLUSION:\n",
    "The idea with exploding dataframe was not so good. Better model(RandomForrestClassifier) + tuning of incoming data allowed to double success in compare with 'naive' code.\n",
    "The most perspective idea: working with last liked songs (despite we didn't have timedata for likes). \n",
    "Final result: 78 place(251 parcipiant)Ycup22_"
   ]
  }
 ],
 "metadata": {
  "kernelspec": {
   "display_name": "Python 3",
   "language": "python",
   "name": "python3"
  },
  "language_info": {
   "codemirror_mode": {
    "name": "ipython",
    "version": 3
   },
   "file_extension": ".py",
   "mimetype": "text/x-python",
   "name": "python",
   "nbconvert_exporter": "python",
   "pygments_lexer": "ipython3",
   "version": "3.8.8"
  }
 },
 "nbformat": 4,
 "nbformat_minor": 5
}
