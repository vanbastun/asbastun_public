{
 "cells": [
  {
   "cell_type": "code",
   "execution_count": 2,
   "id": "d8c59b10-a6e6-4700-8e9a-9e0f83b93cee",
   "metadata": {},
   "outputs": [],
   "source": [
    "import pandas as pd\n",
    "import numpy as np\n",
    "import os\n",
    "import matplotlib.pyplot as plt\n",
    "import seaborn as sns\n",
    "from sklearn.ensemble import RandomForestClassifier\n",
    "from sklearn.tree import DecisionTreeRegressor\n",
    "from sklearn.ensemble import RandomForestRegressor\n",
    "%matplotlib inline"
   ]
  },
  {
   "cell_type": "code",
   "execution_count": 3,
   "id": "456343b7-4312-41f4-ac21-2ba91a7a034d",
   "metadata": {},
   "outputs": [],
   "source": [
    "path = 'kaggle_titanic\\\\train.csv'\n",
    "path_test = 'kaggle_titanic\\\\test.csv'\n",
    "train_data = pd.read_csv(path)\n",
    "test_data = pd.read_csv(path_test)"
   ]
  },
  {
   "cell_type": "code",
   "execution_count": 4,
   "id": "c7dc0ba6-97f6-45b0-a8ff-6a4e23014594",
   "metadata": {},
   "outputs": [
    {
     "data": {
      "text/html": [
       "<div>\n",
       "<style scoped>\n",
       "    .dataframe tbody tr th:only-of-type {\n",
       "        vertical-align: middle;\n",
       "    }\n",
       "\n",
       "    .dataframe tbody tr th {\n",
       "        vertical-align: top;\n",
       "    }\n",
       "\n",
       "    .dataframe thead th {\n",
       "        text-align: right;\n",
       "    }\n",
       "</style>\n",
       "<table border=\"1\" class=\"dataframe\">\n",
       "  <thead>\n",
       "    <tr style=\"text-align: right;\">\n",
       "      <th></th>\n",
       "      <th>PassengerId</th>\n",
       "      <th>Survived</th>\n",
       "      <th>Pclass</th>\n",
       "      <th>Name</th>\n",
       "      <th>Sex</th>\n",
       "      <th>Age</th>\n",
       "      <th>SibSp</th>\n",
       "      <th>Parch</th>\n",
       "      <th>Ticket</th>\n",
       "      <th>Fare</th>\n",
       "      <th>Cabin</th>\n",
       "      <th>Embarked</th>\n",
       "    </tr>\n",
       "  </thead>\n",
       "  <tbody>\n",
       "    <tr>\n",
       "      <th>0</th>\n",
       "      <td>1</td>\n",
       "      <td>0</td>\n",
       "      <td>3</td>\n",
       "      <td>Braund, Mr. Owen Harris</td>\n",
       "      <td>male</td>\n",
       "      <td>22.0</td>\n",
       "      <td>1</td>\n",
       "      <td>0</td>\n",
       "      <td>A/5 21171</td>\n",
       "      <td>7.2500</td>\n",
       "      <td>NaN</td>\n",
       "      <td>S</td>\n",
       "    </tr>\n",
       "    <tr>\n",
       "      <th>1</th>\n",
       "      <td>2</td>\n",
       "      <td>1</td>\n",
       "      <td>1</td>\n",
       "      <td>Cumings, Mrs. John Bradley (Florence Briggs Th...</td>\n",
       "      <td>female</td>\n",
       "      <td>38.0</td>\n",
       "      <td>1</td>\n",
       "      <td>0</td>\n",
       "      <td>PC 17599</td>\n",
       "      <td>71.2833</td>\n",
       "      <td>C85</td>\n",
       "      <td>C</td>\n",
       "    </tr>\n",
       "    <tr>\n",
       "      <th>2</th>\n",
       "      <td>3</td>\n",
       "      <td>1</td>\n",
       "      <td>3</td>\n",
       "      <td>Heikkinen, Miss. Laina</td>\n",
       "      <td>female</td>\n",
       "      <td>26.0</td>\n",
       "      <td>0</td>\n",
       "      <td>0</td>\n",
       "      <td>STON/O2. 3101282</td>\n",
       "      <td>7.9250</td>\n",
       "      <td>NaN</td>\n",
       "      <td>S</td>\n",
       "    </tr>\n",
       "    <tr>\n",
       "      <th>3</th>\n",
       "      <td>4</td>\n",
       "      <td>1</td>\n",
       "      <td>1</td>\n",
       "      <td>Futrelle, Mrs. Jacques Heath (Lily May Peel)</td>\n",
       "      <td>female</td>\n",
       "      <td>35.0</td>\n",
       "      <td>1</td>\n",
       "      <td>0</td>\n",
       "      <td>113803</td>\n",
       "      <td>53.1000</td>\n",
       "      <td>C123</td>\n",
       "      <td>S</td>\n",
       "    </tr>\n",
       "    <tr>\n",
       "      <th>4</th>\n",
       "      <td>5</td>\n",
       "      <td>0</td>\n",
       "      <td>3</td>\n",
       "      <td>Allen, Mr. William Henry</td>\n",
       "      <td>male</td>\n",
       "      <td>35.0</td>\n",
       "      <td>0</td>\n",
       "      <td>0</td>\n",
       "      <td>373450</td>\n",
       "      <td>8.0500</td>\n",
       "      <td>NaN</td>\n",
       "      <td>S</td>\n",
       "    </tr>\n",
       "  </tbody>\n",
       "</table>\n",
       "</div>"
      ],
      "text/plain": [
       "   PassengerId  Survived  Pclass  \\\n",
       "0            1         0       3   \n",
       "1            2         1       1   \n",
       "2            3         1       3   \n",
       "3            4         1       1   \n",
       "4            5         0       3   \n",
       "\n",
       "                                                Name     Sex   Age  SibSp  \\\n",
       "0                            Braund, Mr. Owen Harris    male  22.0      1   \n",
       "1  Cumings, Mrs. John Bradley (Florence Briggs Th...  female  38.0      1   \n",
       "2                             Heikkinen, Miss. Laina  female  26.0      0   \n",
       "3       Futrelle, Mrs. Jacques Heath (Lily May Peel)  female  35.0      1   \n",
       "4                           Allen, Mr. William Henry    male  35.0      0   \n",
       "\n",
       "   Parch            Ticket     Fare Cabin Embarked  \n",
       "0      0         A/5 21171   7.2500   NaN        S  \n",
       "1      0          PC 17599  71.2833   C85        C  \n",
       "2      0  STON/O2. 3101282   7.9250   NaN        S  \n",
       "3      0            113803  53.1000  C123        S  \n",
       "4      0            373450   8.0500   NaN        S  "
      ]
     },
     "execution_count": 4,
     "metadata": {},
     "output_type": "execute_result"
    }
   ],
   "source": [
    "train_data.head()"
   ]
  },
  {
   "cell_type": "code",
   "execution_count": 5,
   "id": "8330c9e4-3988-4e1c-b478-3d7f498923a8",
   "metadata": {},
   "outputs": [
    {
     "data": {
      "text/plain": [
       "PassengerId      int64\n",
       "Survived         int64\n",
       "Pclass           int64\n",
       "Name            object\n",
       "Sex             object\n",
       "Age            float64\n",
       "SibSp            int64\n",
       "Parch            int64\n",
       "Ticket          object\n",
       "Fare           float64\n",
       "Cabin           object\n",
       "Embarked        object\n",
       "dtype: object"
      ]
     },
     "execution_count": 5,
     "metadata": {},
     "output_type": "execute_result"
    }
   ],
   "source": [
    "# geting datatypes\n",
    "train_data.dtypes"
   ]
  },
  {
   "cell_type": "code",
   "execution_count": 6,
   "id": "08ee7f78-82cb-4cb5-8077-c579bf068d1e",
   "metadata": {},
   "outputs": [],
   "source": [
    "# Filling mean Age instead Nan\n",
    "train_data['Age'].fillna(round(train_data['Age'].mean()), inplace=True)\n",
    "test_data['Age'].fillna(round(train_data['Age'].mean()), inplace=True)"
   ]
  },
  {
   "cell_type": "code",
   "execution_count": 7,
   "id": "5e62eb26-ba95-4cb9-b0ce-4af97c41cef6",
   "metadata": {},
   "outputs": [],
   "source": [
    "# Creating 'One Hot Encoding' columns\n",
    "train_data[['Female', 'Male']] = pd.get_dummies(train_data['Sex'])\n",
    "train_data[['Embarked_C', 'Embarked_Q', 'Embarked_S']] = pd.get_dummies(train_data['Embarked'])\n",
    "\n",
    "test_data[['Female', 'Male']] = pd.get_dummies(train_data['Sex'])\n",
    "test_data[['Embarked_C', 'Embarked_Q', 'Embarked_S']] = pd.get_dummies(train_data['Embarked'])"
   ]
  },
  {
   "cell_type": "code",
   "execution_count": 8,
   "id": "c3c5656e-bb0a-4e0e-bac2-4bd640af8030",
   "metadata": {},
   "outputs": [],
   "source": [
    "# Creating new column: % from Fare.mean()\n",
    "train_data['Fare_avg'] = round((train_data['Fare'] / train_data.Fare.mean() * 100))\n",
    "test_data['Fare_avg'] = round((train_data['Fare'] / train_data.Fare.mean() * 100))"
   ]
  },
  {
   "cell_type": "code",
   "execution_count": 9,
   "id": "9113d3c2-2bb2-4d29-a889-dd6aafb54885",
   "metadata": {},
   "outputs": [
    {
     "name": "stdout",
     "output_type": "stream",
     "text": [
      "% of women who survived: 0.7420382165605095\n",
      "% of men who survived: 0.18890814558058924\n"
     ]
    }
   ],
   "source": [
    "# check survive by gender\n",
    "women = train_data.loc[train_data.Sex == 'female'][\"Survived\"]\n",
    "rate_women = sum(women)/len(women)\n",
    "print(\"% of women who survived:\", rate_women)\n",
    "\n",
    "men = train_data.loc[train_data.Sex == 'male'][\"Survived\"]\n",
    "rate_men = sum(men)/len(men)\n",
    "print(\"% of men who survived:\", rate_men)"
   ]
  },
  {
   "cell_type": "code",
   "execution_count": 10,
   "id": "d1ced1a8-821f-4a22-85cc-ac69001fb316",
   "metadata": {},
   "outputs": [],
   "source": [
    "# Preparation data for model\n",
    "features = ['Pclass', 'Age', 'SibSp', 'Parch', 'Female', 'Male', 'Embarked_C', 'Embarked_Q', 'Embarked_S', 'Fare_avg']\n",
    "y = train_data['Survived']\n",
    "X = train_data[features]\n",
    "\n",
    "X_test_final = test_data[features]\n"
   ]
  },
  {
   "cell_type": "markdown",
   "id": "e5cb93c9-8ea6-40b5-87d9-1a78f988e71e",
   "metadata": {},
   "source": [
    "### Splitting train_data in train/test chunks for checking myself\n"
   ]
  },
  {
   "cell_type": "code",
   "execution_count": 11,
   "id": "32b9bbe1-0d71-4e8b-a118-0fe6d27e71bd",
   "metadata": {},
   "outputs": [],
   "source": [
    "from sklearn.model_selection import train_test_split\n",
    "X_train, X_test, y_train, y_test = train_test_split(X, y, test_size=0.15, random_state=0)\n",
    "from sklearn.metrics import roc_auc_score, precision_score, recall_score, f1_score, det_curve"
   ]
  },
  {
   "cell_type": "code",
   "execution_count": 189,
   "id": "beebfc36-b63d-423d-b87d-d9bb25eaee42",
   "metadata": {},
   "outputs": [],
   "source": [
    "# Function for checking & compare models\n",
    "'''\n",
    " Final metrics choosed: \n",
    "    1. Compute Area Under the Receiver Operating Characteristic Curve (ROC AUC) from prediction scores;\n",
    "    2. Compute the F1 score, also known as balanced F-score or F-measure.\n",
    "'''    \n",
    "model_score_dict = {} # container for all models scores\n",
    "def try_model(model):\n",
    "    # Training\n",
    "    model.fit(X_train, y_train)  \n",
    "    # Checking\n",
    "    y_pred = model.predict(X_test)\n",
    "    # Fill container to compare y_pred & y_test\n",
    "    model_score_dict[str(model)[:35]] = [roc_auc_score(y_pred, y_test), f1_score(y_pred, y_test)]"
   ]
  },
  {
   "cell_type": "code",
   "execution_count": 190,
   "id": "b5ba953e-a0d7-4a08-87e9-9516aabe2a04",
   "metadata": {},
   "outputs": [],
   "source": [
    "# Import different models to check\n",
    "from sklearn.ensemble import RandomForestClassifier, AdaBoostClassifier, ExtraTreesClassifier, \\\n",
    "                             GradientBoostingClassifier, BaggingClassifier\n",
    "from sklearn.linear_model import RidgeClassifier"
   ]
  },
  {
   "cell_type": "code",
   "execution_count": 191,
   "id": "670b500f-6e50-4815-924e-166e6a8dc3ec",
   "metadata": {},
   "outputs": [],
   "source": [
    "ridge_model = RidgeClassifier()\n",
    "try_model(ridge_model)"
   ]
  },
  {
   "cell_type": "code",
   "execution_count": 192,
   "id": "77021b36-79c9-4f3d-b2ae-ba7e25ac8b00",
   "metadata": {},
   "outputs": [],
   "source": [
    "rfc_model1 = RandomForestClassifier(n_estimators=100, max_depth=5, random_state=1)\n",
    "try_model(rfc_model1)"
   ]
  },
  {
   "cell_type": "code",
   "execution_count": 193,
   "id": "3fcd852e-1175-404f-b04e-3546b740f2ac",
   "metadata": {},
   "outputs": [],
   "source": [
    "rfc_model2 = RandomForestClassifier(n_estimators=100, max_depth=15, random_state=1)\n",
    "try_model(rfc_model2)"
   ]
  },
  {
   "cell_type": "code",
   "execution_count": 194,
   "id": "3d401bbd-f330-417e-981c-cdef649d46d2",
   "metadata": {},
   "outputs": [],
   "source": [
    "gbc_model = GradientBoostingClassifier(n_estimators=150, max_depth=3, random_state=0)\n",
    "try_model(gbc_model)"
   ]
  },
  {
   "cell_type": "code",
   "execution_count": 195,
   "id": "c79bf5a9-62ee-4dca-88c8-bcd7be7809c2",
   "metadata": {},
   "outputs": [],
   "source": [
    "abc_m = AdaBoostClassifier()\n",
    "try_model(abc_m)"
   ]
  },
  {
   "cell_type": "code",
   "execution_count": 196,
   "id": "443dd865-4ab0-420f-a1c4-7895be730e28",
   "metadata": {},
   "outputs": [],
   "source": [
    "etc_model = ExtraTreesClassifier()\n",
    "try_model(etc_model)"
   ]
  },
  {
   "cell_type": "code",
   "execution_count": 197,
   "id": "7171d48e-8a3d-4823-aff3-9901024c083d",
   "metadata": {},
   "outputs": [],
   "source": [
    "bag_c_model = BaggingClassifier()\n",
    "try_model(bag_c_model)"
   ]
  },
  {
   "cell_type": "code",
   "execution_count": 198,
   "id": "13e6dc91-cbde-488b-84b5-2d0b76147150",
   "metadata": {},
   "outputs": [],
   "source": [
    "from sklearn.ensemble import StackingClassifier\n",
    "best_estimators = [('rfc2', RandomForestClassifier(n_estimators=100, max_depth=15, random_state=1)),(\n",
    "                'gbc', GradientBoostingClassifier(n_estimators=150, max_depth=3, random_state=0)),(\n",
    "                'adab', AdaBoostClassifier())]\n",
    "\n",
    "stc_model = StackingClassifier(estimators = best_estimators, final_estimator = None)\n",
    "try_model(stc_model)"
   ]
  },
  {
   "cell_type": "code",
   "execution_count": 199,
   "id": "636142ae-f92d-497e-8d2d-29e6c681975f",
   "metadata": {},
   "outputs": [
    {
     "data": {
      "image/png": "[encoded data removed]",
      "text/plain": [
       "<Figure size 432x288 with 1 Axes>"
      ]
     },
     "metadata": {
      "needs_background": "light"
     },
     "output_type": "display_data"
    },
    {
     "data": {
      "image/png": "[encoded data removed]",
      "text/plain": [
       "<Figure size 432x288 with 1 Axes>"
      ]
     },
     "metadata": {
      "needs_background": "light"
     },
     "output_type": "display_data"
    }
   ],
   "source": [
    "model_df = pd.DataFrame(model_score_dict)\n",
    "model_df = model_df.T\n",
    "model_df.columns = ['roc_auc_score', 'f1_score']\n",
    "model_df['average'] = round((model_df['roc_auc_score'] + model_df['f1_score']) / 2, 3)\n",
    "sns.barplot(data=model_df.reset_index(), x=\"average\", y='index')\n",
    "plt.xlim(0.7, 0.85)\n",
    "plt.show()\n",
    "sns.barplot(data=model_df.reset_index(), x=\"average\", y='index')\n",
    "plt.xlim(0.8, 0.85)\n",
    "plt.show()"
   ]
  },
  {
   "cell_type": "code",
   "execution_count": 203,
   "id": "6546bb78-e31a-4431-8dae-d221cc22f832",
   "metadata": {},
   "outputs": [
    {
     "data": {
      "text/plain": [
       "0.9090909090909091"
      ]
     },
     "execution_count": 203,
     "metadata": {},
     "output_type": "execute_result"
    }
   ],
   "source": [
    "# training best model on all train_data\n",
    "final_model = GradientBoostingClassifier(n_estimators=150, max_depth=3, random_state=0)\n",
    "final_model.fit(X, y)\n",
    "final_model.score(X, y)\n"
   ]
  },
  {
   "cell_type": "code",
   "execution_count": 204,
   "id": "59c3800e-a837-4367-8d99-58e7e9ea1416",
   "metadata": {},
   "outputs": [],
   "source": [
    "\n",
    "predictions = final_model.predict(X_test_final)"
   ]
  },
  {
   "cell_type": "code",
   "execution_count": 205,
   "id": "92a25c5f-0d88-4a7b-bb55-6a0cedab1474",
   "metadata": {},
   "outputs": [
    {
     "name": "stdout",
     "output_type": "stream",
     "text": [
      "Your submission was successfully saved!\n"
     ]
    }
   ],
   "source": [
    "\n",
    "\n",
    "output = pd.DataFrame({'PassengerId': test_data.PassengerId, 'Survived': predictions})\n",
    "output.to_csv('submission.csv', index=False)\n",
    "print(\"Your submission was successfully saved!\")"
   ]
  }
 ],
 "metadata": {
  "kernelspec": {
   "display_name": "Python 3",
   "language": "python",
   "name": "python3"
  },
  "language_info": {
   "codemirror_mode": {
    "name": "ipython",
    "version": 3
   },
   "file_extension": ".py",
   "mimetype": "text/x-python",
   "name": "python",
   "nbconvert_exporter": "python",
   "pygments_lexer": "ipython3",
   "version": "3.8.8"
  }
 },
 "nbformat": 4,
 "nbformat_minor": 5
}
